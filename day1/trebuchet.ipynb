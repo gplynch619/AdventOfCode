{
 "cells": [
  {
   "cell_type": "code",
   "execution_count": 43,
   "metadata": {},
   "outputs": [
    {
     "name": "stdout",
     "output_type": "stream",
     "text": [
      "54630\n"
     ]
    }
   ],
   "source": [
    "sum = 0\n",
    "with open(\"input.txt\", \"r\") as f:\n",
    "    for line in f.readlines():\n",
    "        first_flag = True\n",
    "        total = \"\"\n",
    "        last_num = \"\"\n",
    "        for c in line:\n",
    "            if c.isdigit():\n",
    "                last_num = c\n",
    "                if first_flag:\n",
    "                    total+=last_num\n",
    "                    first_flag = False\n",
    "        total+=last_num\n",
    "        sum+=int(total)\n",
    "print(sum)"
   ]
  },
  {
   "cell_type": "code",
   "execution_count": 48,
   "metadata": {},
   "outputs": [
    {
     "name": "stdout",
     "output_type": "stream",
     "text": [
      "CPU times: user 3 µs, sys: 0 ns, total: 3 µs\n",
      "Wall time: 6.2 µs\n",
      "54770\n"
     ]
    }
   ],
   "source": [
    "sum = 0\n",
    "def find_all_substrings(string, sub):\n",
    "    scan = 0\n",
    "    sid = []\n",
    "    while scan < len(string):\n",
    "        i = string[scan:].find(sub)\n",
    "        if i != -1:\n",
    "            sid.append(i+scan)\n",
    "            scan += i+len(sub)\n",
    "        else:\n",
    "            scan = len(string)\n",
    "    return sid\n",
    "\n",
    "num_list = [str(i) for i in range(1,10)]\n",
    "word_list = [\"one\", \"two\", \"three\", \"four\", \"five\", \"six\", \"seven\", \"eight\", \"nine\"]\n",
    "total_list = num_list+word_list\n",
    "\n",
    "with open(\"input.txt\", \"r\") as f:\n",
    "    for line in f.readlines():\n",
    "        imin = len(line)\n",
    "        imax = 0\n",
    "        fd = \"\"\n",
    "        ld = \"\"\n",
    "        for s in total_list:\n",
    "\n",
    "            id_of_s = find_all_substrings(line, s)\n",
    "\n",
    "            if len(id_of_s)>0:\n",
    "                if min(id_of_s) < imin:\n",
    "                    imin = min(id_of_s)\n",
    "                    if s in num_list:\n",
    "                        fd=str(s)\n",
    "                    else:\n",
    "                        fd = str(word_list.index(s)+1)\n",
    "                \n",
    "                if max(id_of_s) > imax:\n",
    "                    imax = max(id_of_s)\n",
    "                    if s in num_list:\n",
    "                        ld=str(s)\n",
    "                    else:\n",
    "                        ld = str(word_list.index(s)+1)\n",
    "        #accounting for strings w only one number\n",
    "        if ld==\"\":\n",
    "            ld = fd\n",
    "        sum+=int(fd+ld)\n",
    "print(sum)"
   ]
  },
  {
   "cell_type": "code",
   "execution_count": null,
   "metadata": {},
   "outputs": [],
   "source": []
  }
 ],
 "metadata": {
  "kernelspec": {
   "display_name": "cobaya_x86",
   "language": "python",
   "name": "python3"
  },
  "language_info": {
   "codemirror_mode": {
    "name": "ipython",
    "version": 3
   },
   "file_extension": ".py",
   "mimetype": "text/x-python",
   "name": "python",
   "nbconvert_exporter": "python",
   "pygments_lexer": "ipython3",
   "version": "3.9.15"
  }
 },
 "nbformat": 4,
 "nbformat_minor": 2
}
