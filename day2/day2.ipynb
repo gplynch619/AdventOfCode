{
 "cells": [
  {
   "cell_type": "code",
   "execution_count": 1,
   "metadata": {},
   "outputs": [
    {
     "name": "stdout",
     "output_type": "stream",
     "text": [
      "[2, 5, 6, 12, 13, 17, 20, 21, 23, 24, 28, 31, 32, 36, 37, 39, 42, 43, 46, 47, 50, 51, 53, 54, 56, 62, 63, 64, 65, 66, 67, 70, 71, 72, 74, 78, 83, 86, 87, 88, 90, 92, 94, 96]\n",
      "2256\n"
     ]
    }
   ],
   "source": [
    "config = [12,13,14]\n",
    "possible_ids = []\n",
    "\n",
    "def parse_draw(draw):\n",
    "    res = [0,0,0]\n",
    "    for color in draw.split(\",\"):\n",
    "        color = color.strip()\n",
    "        split = color.split(\" \")\n",
    "        if split[-1]==\"red\":\n",
    "            res[0]=int(split[0])\n",
    "        if split[-1]==\"green\":\n",
    "            res[1]=int(split[0])\n",
    "        if split[-1]==\"blue\":\n",
    "            res[2]=int(split[0])\n",
    "    return res\n",
    "\n",
    "with open(\"input.txt\", \"r\") as f:\n",
    "    for line in f.readlines():\n",
    "        is_impossible = False\n",
    "        meta = line.split(\":\")[0]\n",
    "        data = line.split(\":\")[1]\n",
    "        game_id = int(meta.split(\" \")[-1])\n",
    "        for draw in data.split(\";\"):\n",
    "            res = parse_draw(draw)\n",
    "            for a,b in zip(res, config):\n",
    "                if a>b:\n",
    "                    is_impossible=True\n",
    "        if not is_impossible:\n",
    "            possible_ids.append(game_id)\n",
    "print(possible_ids)\n",
    "print(sum(possible_ids))"
   ]
  },
  {
   "cell_type": "code",
   "execution_count": 9,
   "metadata": {},
   "outputs": [],
   "source": [
    "config = [12,13,14]\n",
    "possible_ids = []\n",
    "running_total=0\n",
    "with open(\"input.txt\", \"r\") as f:\n",
    "    for line in f.readlines():\n",
    "        min_config = [0,0,0]\n",
    "        meta = line.split(\":\")[0]\n",
    "        data = line.split(\":\")[1]\n",
    "        game_id = int(meta.split(\" \")[-1])\n",
    "        for draw in data.split(\";\"):\n",
    "            res=parse_draw(draw)\n",
    "            for i,(a,b) in enumerate(zip(res, min_config)):\n",
    "                if a>b:\n",
    "                    min_config[i]=a\n",
    "        power = 1\n",
    "        for p in min_config:\n",
    "            power*=p\n",
    "        running_total+=power"
   ]
  },
  {
   "cell_type": "code",
   "execution_count": 10,
   "metadata": {},
   "outputs": [
    {
     "name": "stdout",
     "output_type": "stream",
     "text": [
      "74229\n"
     ]
    }
   ],
   "source": [
    "print(running_total)"
   ]
  },
  {
   "cell_type": "code",
   "execution_count": null,
   "metadata": {},
   "outputs": [],
   "source": []
  }
 ],
 "metadata": {
  "kernelspec": {
   "display_name": "cobaya_x86",
   "language": "python",
   "name": "python3"
  },
  "language_info": {
   "codemirror_mode": {
    "name": "ipython",
    "version": 3
   },
   "file_extension": ".py",
   "mimetype": "text/x-python",
   "name": "python",
   "nbconvert_exporter": "python",
   "pygments_lexer": "ipython3",
   "version": "3.9.15"
  }
 },
 "nbformat": 4,
 "nbformat_minor": 2
}
